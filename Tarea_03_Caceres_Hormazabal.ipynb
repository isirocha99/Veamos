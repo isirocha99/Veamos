{
  "nbformat": 4,
  "nbformat_minor": 0,
  "metadata": {
    "colab": {
      "name": "Copia_de_tarea_03_Benja.ipynb",
      "provenance": [],
      "collapsed_sections": [
        "n6ZbtVm5j-Br",
        "E8t9AzJQj-Bx"
      ]
    },
    "kernelspec": {
      "display_name": "Python 3",
      "language": "python",
      "name": "python3"
    },
    "language_info": {
      "codemirror_mode": {
        "name": "ipython",
        "version": 3
      },
      "file_extension": ".py",
      "mimetype": "text/x-python",
      "name": "python",
      "nbconvert_exporter": "python",
      "pygments_lexer": "ipython3",
      "version": "3.9.5"
    }
  },
  "cells": [
    {
      "cell_type": "markdown",
      "metadata": {
        "id": "gjQEpy3Pj-Bn"
      },
      "source": [
        "# Fundamentos de Ciencias de Datos\n",
        "\n",
        "*Esta tarea tiene solamente una parte grupal que se encuentra en el presente cuaderno de Python.*\n",
        "\n",
        "## Tarea 3\n",
        "\n",
        "### Objetivos\n",
        "\n",
        "1. Entender los conceptos básicos del área de _Machine Learning_.\n",
        "2. Entender cómo medir el desempeño de un algoritmo de regresión y de un algoritmo de clasificación.\n",
        "3. Familiarización con las herramientas de Python para entrenar y usar algoritmos de _Machine Learning_.\n",
        "\n",
        "### Metodología\n",
        "\n",
        "Deberás completar este cuaderno de python, siguiendo las instrucciones contenidas en él. Puedes utilizar contenido que encuentre en internet siempre y cuando lo referencies a través de un comentario. Por ejemplo:\n",
        "\n",
        ">```Python\n",
        "># código para abrir archivo obtenido desde  https://uniwebsidad.com/libros/algoritmos-python/capitulo-11\n",
        ">archivo = open(\"archivo.txt\")\n",
        ">```\n",
        "\n",
        "No olvides poner nombres representativos a tus variables. Caso contrario se verá reflejado en una penalización de tu nota.\n",
        "\n",
        "### Conjuntos de Datos\n",
        "\n",
        "Se le entregan 4 conjuntos de datos: codigos.csv, psu_2019.csv, presupuesto_2019.csv y poblacion.csv. \n",
        "\n",
        "#### codigos.csv\n",
        "\n",
        " | columna | descripción |\n",
        " | --- | :---: |\n",
        " | Código Región | **Entero**: Identificador único para cada región. |\n",
        " | Nombre Región | **String**: Nombre de la región. |\n",
        " | Abreviatura Región | **String**: Abreviatura (en letras) o nombre corto de la región.  |\n",
        " | Código Provincia | **Entero**: Identificador único para cada provincia. |\n",
        " | Nombre Provincia | **String**: Nombre de la provincia. |\n",
        " | Código Comuna 2018 | **Entero**: Identificador único para cada comuna. |\n",
        " | Nombre Comuna | **String**: Nombre de la comuna. |\n",
        "\n",
        " #### datos_comunas.csv\n",
        "\n",
        " | columna | descripción |\n",
        " | --- | :---: |\n",
        " | id | **Entero**: Identificador único para cada comuna. Mismo identificador que en **codigos.csv**. |\n",
        " | metros_plaza | **Entero**: Cantidad de metros de plaza que tiene la comuna. |\n",
        " | metros_parque | **Entero**: Cantidad de metros de parque que tiene la comuna.  |\n",
        " | personas_trabaja | **Entero**: Número de personas que trabaja en la municipalidad de la comuna. |\n",
        "\n",
        " #### presupuesto_2019.csv\n",
        "\n",
        " | columna | descripción |\n",
        " | --- | :---: |\n",
        " | CODIGO | **Entero**: Identificador único para cada comuna. Mismo identificador que en **codigos.csv**. |\n",
        " | MUNICIPIO | **String**: Nombre de la comuna. |\n",
        " | PRESUPUESTO | **Entero**: Presupuesto destinado a la comuna.  |\n",
        "\n",
        " **Observación**: en la columna `PRESUPUESTO`, hay datos que están como \"no recepcionados. Eso puede producir que los análisis fallen, por lo que se recomienda limpiar los datos antes.\n",
        "\n",
        " #### poblacion.csv\n",
        "\n",
        " | columna | descripción |\n",
        " | --- | :---: |\n",
        " | CODIGO | **Entero**: Identificador único para cada comuna. Mismo identificador que en **codigos.csv**. |\n",
        " | MUNICIPIO | **String**: Nombre de la comuna. |\n",
        " | POBLACIÓN | **Entero**: Número de personas que vive en la comuna.  |\n",
        "\n"
      ]
    },
    {
      "cell_type": "markdown",
      "metadata": {
        "id": "FZs3HWKJ3E8q"
      },
      "source": [
        "## Integrantes\n",
        "\n",
        "Por favor, llenar acá el nombre de los integrantes de la pareja, junto a la asignación de las consultas de la sección A y la sección B.\n",
        "\n",
        "- **Integrante 1**: Benjamín Hormazábal Corral\n",
        "- **Integrante 2**: Vicente Cáceres"
      ]
    },
    {
      "cell_type": "markdown",
      "metadata": {
        "id": "n6ZbtVm5j-Br"
      },
      "source": [
        "## Recomendaciones\n",
        "\n",
        "Primero, deberías importar en la siguiente celda **TODOS** los módulos de Python necesarios para la correcta ejecución de su tarea."
      ]
    },
    {
      "cell_type": "code",
      "metadata": {
        "id": "FHgxHVAGj-Bs"
      },
      "source": [
        "#Escriba su código aquí\n",
        "import pandas as pd\n",
        "import matplotlib.pyplot as plt\n",
        "import seaborn as sns\n",
        "import numpy as np"
      ],
      "execution_count": null,
      "outputs": []
    },
    {
      "cell_type": "markdown",
      "metadata": {
        "id": "wKqzJDO7j-Bt"
      },
      "source": [
        "Luego, deberías guardar en una (o varias) variable(s) TODOS los sets de datos que utilizarás en la tarea."
      ]
    },
    {
      "cell_type": "code",
      "metadata": {
        "id": "cfqGDbGyj-Bu"
      },
      "source": [
        "#Escriba su código aquí\n",
        "df_cod = pd.read_csv('codigos.csv', sep = ';')\n",
        "df_datos = pd.read_csv('datos_comunas.csv', sep = ',')\n",
        "df_presupuesto = pd.read_csv('presupuesto_2019.csv', sep = ';')\n",
        "df_poblacion = pd.read_csv('poblacion.csv', sep = ';')"
      ],
      "execution_count": null,
      "outputs": []
    },
    {
      "cell_type": "markdown",
      "metadata": {
        "id": "wAw8r7Oaj-Bu"
      },
      "source": [
        "Utilice las variables previamente guardadas para mostrar parte de la información de todos los conjuntos de datos. Vale decir, si usted creó dos variables, cada una con un conjunto de datos diferente, muestre parte de los dos conjuntos de datos. Esto te ayudará a entender mejor lo que contiene cada fuente de datos."
      ]
    },
    {
      "cell_type": "code",
      "metadata": {
        "id": "jjuZtQEBj-Bu",
        "colab": {
          "base_uri": "https://localhost:8080/",
          "height": 201
        },
        "outputId": "40e38d67-a6fa-45b9-868d-59b90898586f"
      },
      "source": [
        "#Escriba su código aquí\n",
        "df_cod.head(5)"
      ],
      "execution_count": null,
      "outputs": [
        {
          "output_type": "execute_result",
          "data": {
            "text/html": [
              "<div>\n",
              "<style scoped>\n",
              "    .dataframe tbody tr th:only-of-type {\n",
              "        vertical-align: middle;\n",
              "    }\n",
              "\n",
              "    .dataframe tbody tr th {\n",
              "        vertical-align: top;\n",
              "    }\n",
              "\n",
              "    .dataframe thead th {\n",
              "        text-align: right;\n",
              "    }\n",
              "</style>\n",
              "<table border=\"1\" class=\"dataframe\">\n",
              "  <thead>\n",
              "    <tr style=\"text-align: right;\">\n",
              "      <th></th>\n",
              "      <th>Código Región</th>\n",
              "      <th>Nombre Región</th>\n",
              "      <th>Abreviatura Región</th>\n",
              "      <th>Código Provincia</th>\n",
              "      <th>Nombre Provincia</th>\n",
              "      <th>Código Comuna 2018</th>\n",
              "      <th>Nombre Comuna</th>\n",
              "    </tr>\n",
              "  </thead>\n",
              "  <tbody>\n",
              "    <tr>\n",
              "      <th>0</th>\n",
              "      <td>1</td>\n",
              "      <td>Tarapacá</td>\n",
              "      <td>TPCA</td>\n",
              "      <td>11</td>\n",
              "      <td>Iquique</td>\n",
              "      <td>1101</td>\n",
              "      <td>Iquique</td>\n",
              "    </tr>\n",
              "    <tr>\n",
              "      <th>1</th>\n",
              "      <td>1</td>\n",
              "      <td>Tarapacá</td>\n",
              "      <td>TPCA</td>\n",
              "      <td>11</td>\n",
              "      <td>Iquique</td>\n",
              "      <td>1107</td>\n",
              "      <td>Alto Hospicio</td>\n",
              "    </tr>\n",
              "    <tr>\n",
              "      <th>2</th>\n",
              "      <td>1</td>\n",
              "      <td>Tarapacá</td>\n",
              "      <td>TPCA</td>\n",
              "      <td>14</td>\n",
              "      <td>Tamarugal</td>\n",
              "      <td>1401</td>\n",
              "      <td>Pozo Almonte</td>\n",
              "    </tr>\n",
              "    <tr>\n",
              "      <th>3</th>\n",
              "      <td>1</td>\n",
              "      <td>Tarapacá</td>\n",
              "      <td>TPCA</td>\n",
              "      <td>14</td>\n",
              "      <td>Tamarugal</td>\n",
              "      <td>1402</td>\n",
              "      <td>Camiña</td>\n",
              "    </tr>\n",
              "    <tr>\n",
              "      <th>4</th>\n",
              "      <td>1</td>\n",
              "      <td>Tarapacá</td>\n",
              "      <td>TPCA</td>\n",
              "      <td>14</td>\n",
              "      <td>Tamarugal</td>\n",
              "      <td>1403</td>\n",
              "      <td>Colchane</td>\n",
              "    </tr>\n",
              "  </tbody>\n",
              "</table>\n",
              "</div>"
            ],
            "text/plain": [
              "   Código Región Nombre Región  ... Código Comuna 2018  Nombre Comuna\n",
              "0              1      Tarapacá  ...               1101        Iquique\n",
              "1              1      Tarapacá  ...               1107  Alto Hospicio\n",
              "2              1      Tarapacá  ...               1401   Pozo Almonte\n",
              "3              1      Tarapacá  ...               1402         Camiña\n",
              "4              1      Tarapacá  ...               1403       Colchane\n",
              "\n",
              "[5 rows x 7 columns]"
            ]
          },
          "metadata": {},
          "execution_count": 9
        }
      ]
    },
    {
      "cell_type": "code",
      "metadata": {
        "colab": {
          "base_uri": "https://localhost:8080/",
          "height": 201
        },
        "id": "0TsaAJEagVls",
        "outputId": "d3fc8f47-1683-4128-bc6e-ed1a44dc3dbb"
      },
      "source": [
        "df_datos.head(5)"
      ],
      "execution_count": null,
      "outputs": [
        {
          "output_type": "execute_result",
          "data": {
            "text/html": [
              "<div>\n",
              "<style scoped>\n",
              "    .dataframe tbody tr th:only-of-type {\n",
              "        vertical-align: middle;\n",
              "    }\n",
              "\n",
              "    .dataframe tbody tr th {\n",
              "        vertical-align: top;\n",
              "    }\n",
              "\n",
              "    .dataframe thead th {\n",
              "        text-align: right;\n",
              "    }\n",
              "</style>\n",
              "<table border=\"1\" class=\"dataframe\">\n",
              "  <thead>\n",
              "    <tr style=\"text-align: right;\">\n",
              "      <th></th>\n",
              "      <th>id</th>\n",
              "      <th>metros_plaza</th>\n",
              "      <th>metros_parque</th>\n",
              "      <th>personas_trabaja</th>\n",
              "    </tr>\n",
              "  </thead>\n",
              "  <tbody>\n",
              "    <tr>\n",
              "      <th>0</th>\n",
              "      <td>1101</td>\n",
              "      <td>58460.0</td>\n",
              "      <td>94824.0</td>\n",
              "      <td>271.0</td>\n",
              "    </tr>\n",
              "    <tr>\n",
              "      <th>1</th>\n",
              "      <td>1107</td>\n",
              "      <td>130316.0</td>\n",
              "      <td>0.0</td>\n",
              "      <td>55.0</td>\n",
              "    </tr>\n",
              "    <tr>\n",
              "      <th>2</th>\n",
              "      <td>1401</td>\n",
              "      <td>NaN</td>\n",
              "      <td>NaN</td>\n",
              "      <td>NaN</td>\n",
              "    </tr>\n",
              "    <tr>\n",
              "      <th>3</th>\n",
              "      <td>1402</td>\n",
              "      <td>4050.0</td>\n",
              "      <td>0.0</td>\n",
              "      <td>8.0</td>\n",
              "    </tr>\n",
              "    <tr>\n",
              "      <th>4</th>\n",
              "      <td>1403</td>\n",
              "      <td>2532.0</td>\n",
              "      <td>NaN</td>\n",
              "      <td>NaN</td>\n",
              "    </tr>\n",
              "  </tbody>\n",
              "</table>\n",
              "</div>"
            ],
            "text/plain": [
              "     id  metros_plaza  metros_parque  personas_trabaja\n",
              "0  1101       58460.0        94824.0             271.0\n",
              "1  1107      130316.0            0.0              55.0\n",
              "2  1401           NaN            NaN               NaN\n",
              "3  1402        4050.0            0.0               8.0\n",
              "4  1403        2532.0            NaN               NaN"
            ]
          },
          "metadata": {},
          "execution_count": 10
        }
      ]
    },
    {
      "cell_type": "code",
      "metadata": {
        "colab": {
          "base_uri": "https://localhost:8080/",
          "height": 201
        },
        "id": "R7A5J8j-gjUI",
        "outputId": "b1102e4b-3fef-43e5-d299-af56c0b7ff8d"
      },
      "source": [
        "df_presupuesto.head(5)"
      ],
      "execution_count": null,
      "outputs": [
        {
          "output_type": "execute_result",
          "data": {
            "text/html": [
              "<div>\n",
              "<style scoped>\n",
              "    .dataframe tbody tr th:only-of-type {\n",
              "        vertical-align: middle;\n",
              "    }\n",
              "\n",
              "    .dataframe tbody tr th {\n",
              "        vertical-align: top;\n",
              "    }\n",
              "\n",
              "    .dataframe thead th {\n",
              "        text-align: right;\n",
              "    }\n",
              "</style>\n",
              "<table border=\"1\" class=\"dataframe\">\n",
              "  <thead>\n",
              "    <tr style=\"text-align: right;\">\n",
              "      <th></th>\n",
              "      <th>CODIGO</th>\n",
              "      <th>MUNICIPIO</th>\n",
              "      <th>PRESUPUESTO</th>\n",
              "    </tr>\n",
              "  </thead>\n",
              "  <tbody>\n",
              "    <tr>\n",
              "      <th>0</th>\n",
              "      <td>1101</td>\n",
              "      <td>IQUIQUE</td>\n",
              "      <td>59072234</td>\n",
              "    </tr>\n",
              "    <tr>\n",
              "      <th>1</th>\n",
              "      <td>1107</td>\n",
              "      <td>ALTO HOSPICIO</td>\n",
              "      <td>13984411</td>\n",
              "    </tr>\n",
              "    <tr>\n",
              "      <th>2</th>\n",
              "      <td>1401</td>\n",
              "      <td>POZO ALMONTE</td>\n",
              "      <td>7613962</td>\n",
              "    </tr>\n",
              "    <tr>\n",
              "      <th>3</th>\n",
              "      <td>1402</td>\n",
              "      <td>CAMIÑA</td>\n",
              "      <td>1584008</td>\n",
              "    </tr>\n",
              "    <tr>\n",
              "      <th>4</th>\n",
              "      <td>1403</td>\n",
              "      <td>COLCHANE</td>\n",
              "      <td>2500000</td>\n",
              "    </tr>\n",
              "  </tbody>\n",
              "</table>\n",
              "</div>"
            ],
            "text/plain": [
              "   CODIGO      MUNICIPIO PRESUPUESTO\n",
              "0    1101        IQUIQUE    59072234\n",
              "1    1107  ALTO HOSPICIO    13984411\n",
              "2    1401   POZO ALMONTE     7613962\n",
              "3    1402         CAMIÑA     1584008\n",
              "4    1403       COLCHANE     2500000"
            ]
          },
          "metadata": {},
          "execution_count": 11
        }
      ]
    },
    {
      "cell_type": "code",
      "metadata": {
        "colab": {
          "base_uri": "https://localhost:8080/",
          "height": 201
        },
        "id": "OrcOn5gagmNQ",
        "outputId": "34cbb25c-0000-4a2a-9929-d63e0f75a0f8"
      },
      "source": [
        "df_poblacion.head(5)"
      ],
      "execution_count": null,
      "outputs": [
        {
          "output_type": "execute_result",
          "data": {
            "text/html": [
              "<div>\n",
              "<style scoped>\n",
              "    .dataframe tbody tr th:only-of-type {\n",
              "        vertical-align: middle;\n",
              "    }\n",
              "\n",
              "    .dataframe tbody tr th {\n",
              "        vertical-align: top;\n",
              "    }\n",
              "\n",
              "    .dataframe thead th {\n",
              "        text-align: right;\n",
              "    }\n",
              "</style>\n",
              "<table border=\"1\" class=\"dataframe\">\n",
              "  <thead>\n",
              "    <tr style=\"text-align: right;\">\n",
              "      <th></th>\n",
              "      <th>CODIGO</th>\n",
              "      <th>MUNICIPIO</th>\n",
              "      <th>POBLACIÓN</th>\n",
              "    </tr>\n",
              "  </thead>\n",
              "  <tbody>\n",
              "    <tr>\n",
              "      <th>0</th>\n",
              "      <td>1101</td>\n",
              "      <td>IQUIQUE</td>\n",
              "      <td>216514</td>\n",
              "    </tr>\n",
              "    <tr>\n",
              "      <th>1</th>\n",
              "      <td>1107</td>\n",
              "      <td>ALTO HOSPICIO</td>\n",
              "      <td>124150</td>\n",
              "    </tr>\n",
              "    <tr>\n",
              "      <th>2</th>\n",
              "      <td>1401</td>\n",
              "      <td>POZO ALMONTE</td>\n",
              "      <td>16683</td>\n",
              "    </tr>\n",
              "    <tr>\n",
              "      <th>3</th>\n",
              "      <td>1402</td>\n",
              "      <td>CAMIÑA</td>\n",
              "      <td>1345</td>\n",
              "    </tr>\n",
              "    <tr>\n",
              "      <th>4</th>\n",
              "      <td>1403</td>\n",
              "      <td>COLCHANE</td>\n",
              "      <td>1556</td>\n",
              "    </tr>\n",
              "  </tbody>\n",
              "</table>\n",
              "</div>"
            ],
            "text/plain": [
              "   CODIGO      MUNICIPIO  POBLACIÓN\n",
              "0    1101        IQUIQUE     216514\n",
              "1    1107  ALTO HOSPICIO     124150\n",
              "2    1401   POZO ALMONTE      16683\n",
              "3    1402         CAMIÑA       1345\n",
              "4    1403       COLCHANE       1556"
            ]
          },
          "metadata": {},
          "execution_count": 12
        }
      ]
    },
    {
      "cell_type": "markdown",
      "metadata": {
        "id": "sMS6UG3Tj-Bv"
      },
      "source": [
        "Además, si necesitas hacer algún pre-procesamiento **COMÚN** a todas sus futuras respuestas, deberías hacerlo en la siguiente celda"
      ]
    },
    {
      "cell_type": "code",
      "metadata": {
        "id": "D1Vi9aDgj-Bw"
      },
      "source": [
        "#Escriba su código aquí\n",
        "df_poblacion = df_poblacion[['CODIGO','POBLACIÓN']]\n",
        "df_presupuesto = df_presupuesto[['CODIGO','PRESUPUESTO']]"
      ],
      "execution_count": null,
      "outputs": []
    },
    {
      "cell_type": "code",
      "metadata": {
        "id": "aN-eoHQtG4c9"
      },
      "source": [
        "df_cod = df_cod.set_index(['Código Comuna 2018'])\n",
        "df_datos = df_datos.set_index(['id'])\n",
        "df_poblacion = df_poblacion.set_index(['CODIGO'])\n",
        "df_presupuesto = df_presupuesto.set_index(['CODIGO'])"
      ],
      "execution_count": null,
      "outputs": []
    },
    {
      "cell_type": "code",
      "metadata": {
        "colab": {
          "base_uri": "https://localhost:8080/",
          "height": 541
        },
        "id": "vzpCsqEuHx43",
        "outputId": "085ded5d-03eb-46b4-bd56-0cf85064c1b9"
      },
      "source": [
        "df = df_cod.join(df_datos)\n",
        "df = df.join(df_poblacion)\n",
        "df = df.join(df_presupuesto)\n",
        "df"
      ],
      "execution_count": null,
      "outputs": [
        {
          "output_type": "execute_result",
          "data": {
            "text/html": [
              "<div>\n",
              "<style scoped>\n",
              "    .dataframe tbody tr th:only-of-type {\n",
              "        vertical-align: middle;\n",
              "    }\n",
              "\n",
              "    .dataframe tbody tr th {\n",
              "        vertical-align: top;\n",
              "    }\n",
              "\n",
              "    .dataframe thead th {\n",
              "        text-align: right;\n",
              "    }\n",
              "</style>\n",
              "<table border=\"1\" class=\"dataframe\">\n",
              "  <thead>\n",
              "    <tr style=\"text-align: right;\">\n",
              "      <th></th>\n",
              "      <th>Código Región</th>\n",
              "      <th>Nombre Región</th>\n",
              "      <th>Abreviatura Región</th>\n",
              "      <th>Código Provincia</th>\n",
              "      <th>Nombre Provincia</th>\n",
              "      <th>Nombre Comuna</th>\n",
              "      <th>metros_plaza</th>\n",
              "      <th>metros_parque</th>\n",
              "      <th>personas_trabaja</th>\n",
              "      <th>POBLACIÓN</th>\n",
              "      <th>PRESUPUESTO</th>\n",
              "    </tr>\n",
              "    <tr>\n",
              "      <th>Código Comuna 2018</th>\n",
              "      <th></th>\n",
              "      <th></th>\n",
              "      <th></th>\n",
              "      <th></th>\n",
              "      <th></th>\n",
              "      <th></th>\n",
              "      <th></th>\n",
              "      <th></th>\n",
              "      <th></th>\n",
              "      <th></th>\n",
              "      <th></th>\n",
              "    </tr>\n",
              "  </thead>\n",
              "  <tbody>\n",
              "    <tr>\n",
              "      <th>1101</th>\n",
              "      <td>1</td>\n",
              "      <td>Tarapacá</td>\n",
              "      <td>TPCA</td>\n",
              "      <td>11</td>\n",
              "      <td>Iquique</td>\n",
              "      <td>Iquique</td>\n",
              "      <td>58460.0</td>\n",
              "      <td>94824.0</td>\n",
              "      <td>271.0</td>\n",
              "      <td>216514.0</td>\n",
              "      <td>59072234</td>\n",
              "    </tr>\n",
              "    <tr>\n",
              "      <th>1107</th>\n",
              "      <td>1</td>\n",
              "      <td>Tarapacá</td>\n",
              "      <td>TPCA</td>\n",
              "      <td>11</td>\n",
              "      <td>Iquique</td>\n",
              "      <td>Alto Hospicio</td>\n",
              "      <td>130316.0</td>\n",
              "      <td>0.0</td>\n",
              "      <td>55.0</td>\n",
              "      <td>124150.0</td>\n",
              "      <td>13984411</td>\n",
              "    </tr>\n",
              "    <tr>\n",
              "      <th>1401</th>\n",
              "      <td>1</td>\n",
              "      <td>Tarapacá</td>\n",
              "      <td>TPCA</td>\n",
              "      <td>14</td>\n",
              "      <td>Tamarugal</td>\n",
              "      <td>Pozo Almonte</td>\n",
              "      <td>NaN</td>\n",
              "      <td>NaN</td>\n",
              "      <td>NaN</td>\n",
              "      <td>16683.0</td>\n",
              "      <td>7613962</td>\n",
              "    </tr>\n",
              "    <tr>\n",
              "      <th>1402</th>\n",
              "      <td>1</td>\n",
              "      <td>Tarapacá</td>\n",
              "      <td>TPCA</td>\n",
              "      <td>14</td>\n",
              "      <td>Tamarugal</td>\n",
              "      <td>Camiña</td>\n",
              "      <td>4050.0</td>\n",
              "      <td>0.0</td>\n",
              "      <td>8.0</td>\n",
              "      <td>1345.0</td>\n",
              "      <td>1584008</td>\n",
              "    </tr>\n",
              "    <tr>\n",
              "      <th>1403</th>\n",
              "      <td>1</td>\n",
              "      <td>Tarapacá</td>\n",
              "      <td>TPCA</td>\n",
              "      <td>14</td>\n",
              "      <td>Tamarugal</td>\n",
              "      <td>Colchane</td>\n",
              "      <td>2532.0</td>\n",
              "      <td>NaN</td>\n",
              "      <td>NaN</td>\n",
              "      <td>1556.0</td>\n",
              "      <td>2500000</td>\n",
              "    </tr>\n",
              "    <tr>\n",
              "      <th>...</th>\n",
              "      <td>...</td>\n",
              "      <td>...</td>\n",
              "      <td>...</td>\n",
              "      <td>...</td>\n",
              "      <td>...</td>\n",
              "      <td>...</td>\n",
              "      <td>...</td>\n",
              "      <td>...</td>\n",
              "      <td>...</td>\n",
              "      <td>...</td>\n",
              "      <td>...</td>\n",
              "    </tr>\n",
              "    <tr>\n",
              "      <th>16301</th>\n",
              "      <td>16</td>\n",
              "      <td>Ñuble</td>\n",
              "      <td>NUBLE</td>\n",
              "      <td>163</td>\n",
              "      <td>Punilla</td>\n",
              "      <td>San Carlos</td>\n",
              "      <td>168800.0</td>\n",
              "      <td>82226.0</td>\n",
              "      <td>19.0</td>\n",
              "      <td>55935.0</td>\n",
              "      <td>10459691</td>\n",
              "    </tr>\n",
              "    <tr>\n",
              "      <th>16302</th>\n",
              "      <td>16</td>\n",
              "      <td>Ñuble</td>\n",
              "      <td>NUBLE</td>\n",
              "      <td>163</td>\n",
              "      <td>Punilla</td>\n",
              "      <td>Coihueco</td>\n",
              "      <td>21282.0</td>\n",
              "      <td>0.0</td>\n",
              "      <td>62.0</td>\n",
              "      <td>28147.0</td>\n",
              "      <td>5001190</td>\n",
              "    </tr>\n",
              "    <tr>\n",
              "      <th>16303</th>\n",
              "      <td>16</td>\n",
              "      <td>Ñuble</td>\n",
              "      <td>NUBLE</td>\n",
              "      <td>163</td>\n",
              "      <td>Punilla</td>\n",
              "      <td>Ñiquén</td>\n",
              "      <td>21925.0</td>\n",
              "      <td>0.0</td>\n",
              "      <td>22.0</td>\n",
              "      <td>11556.0</td>\n",
              "      <td>3386698</td>\n",
              "    </tr>\n",
              "    <tr>\n",
              "      <th>16304</th>\n",
              "      <td>16</td>\n",
              "      <td>Ñuble</td>\n",
              "      <td>NUBLE</td>\n",
              "      <td>163</td>\n",
              "      <td>Punilla</td>\n",
              "      <td>San Fabián</td>\n",
              "      <td>9500.0</td>\n",
              "      <td>0.0</td>\n",
              "      <td>26.0</td>\n",
              "      <td>4607.0</td>\n",
              "      <td>1798500</td>\n",
              "    </tr>\n",
              "    <tr>\n",
              "      <th>16305</th>\n",
              "      <td>16</td>\n",
              "      <td>Ñuble</td>\n",
              "      <td>NUBLE</td>\n",
              "      <td>163</td>\n",
              "      <td>Punilla</td>\n",
              "      <td>San Nicolás</td>\n",
              "      <td>36300.0</td>\n",
              "      <td>4180.0</td>\n",
              "      <td>33.0</td>\n",
              "      <td>12068.0</td>\n",
              "      <td>3979700</td>\n",
              "    </tr>\n",
              "  </tbody>\n",
              "</table>\n",
              "<p>346 rows × 11 columns</p>\n",
              "</div>"
            ],
            "text/plain": [
              "                    Código Región Nombre Región  ... POBLACIÓN  PRESUPUESTO\n",
              "Código Comuna 2018                               ...                       \n",
              "1101                            1      Tarapacá  ...  216514.0     59072234\n",
              "1107                            1      Tarapacá  ...  124150.0     13984411\n",
              "1401                            1      Tarapacá  ...   16683.0      7613962\n",
              "1402                            1      Tarapacá  ...    1345.0      1584008\n",
              "1403                            1      Tarapacá  ...    1556.0      2500000\n",
              "...                           ...           ...  ...       ...          ...\n",
              "16301                          16         Ñuble  ...   55935.0     10459691\n",
              "16302                          16         Ñuble  ...   28147.0      5001190\n",
              "16303                          16         Ñuble  ...   11556.0      3386698\n",
              "16304                          16         Ñuble  ...    4607.0      1798500\n",
              "16305                          16         Ñuble  ...   12068.0      3979700\n",
              "\n",
              "[346 rows x 11 columns]"
            ]
          },
          "metadata": {},
          "execution_count": 15
        }
      ]
    },
    {
      "cell_type": "code",
      "metadata": {
        "colab": {
          "base_uri": "https://localhost:8080/"
        },
        "id": "ugnRWDJNIbED",
        "outputId": "4809e507-1d14-4927-fe75-eb1109c7fa00"
      },
      "source": [
        "df.info()\n",
        "#Asegurar variable como número (int o float)\n",
        "#La variable presupuesto no es congruente con la naturaleza que debería tener, ya que aparece como object cuando se debe trabajar como número"
      ],
      "execution_count": null,
      "outputs": [
        {
          "output_type": "stream",
          "name": "stdout",
          "text": [
            "<class 'pandas.core.frame.DataFrame'>\n",
            "Int64Index: 346 entries, 1101 to 16305\n",
            "Data columns (total 11 columns):\n",
            " #   Column              Non-Null Count  Dtype  \n",
            "---  ------              --------------  -----  \n",
            " 0   Código Región       346 non-null    int64  \n",
            " 1   Nombre Región       346 non-null    object \n",
            " 2   Abreviatura Región  346 non-null    object \n",
            " 3   Código Provincia    346 non-null    int64  \n",
            " 4   Nombre Provincia    346 non-null    object \n",
            " 5   Nombre Comuna       346 non-null    object \n",
            " 6   metros_plaza        326 non-null    float64\n",
            " 7   metros_parque       318 non-null    float64\n",
            " 8   personas_trabaja    319 non-null    float64\n",
            " 9   POBLACIÓN           345 non-null    float64\n",
            " 10  PRESUPUESTO         345 non-null    object \n",
            "dtypes: float64(4), int64(2), object(5)\n",
            "memory usage: 42.4+ KB\n"
          ]
        }
      ]
    },
    {
      "cell_type": "code",
      "metadata": {
        "colab": {
          "base_uri": "https://localhost:8080/",
          "height": 348
        },
        "id": "UBIG7vV3Jzha",
        "outputId": "dbb3ede1-c44d-4363-b7a7-107bbe2f3444"
      },
      "source": [
        "df['PRESUPUESTO'] = df['PRESUPUESTO'].astype(int)\n",
        "#Error ya que indica que existen datos como 'No recepcionados'"
      ],
      "execution_count": null,
      "outputs": [
        {
          "output_type": "error",
          "ename": "ValueError",
          "evalue": "ignored",
          "traceback": [
            "\u001b[0;31m---------------------------------------------------------------------------\u001b[0m",
            "\u001b[0;31mValueError\u001b[0m                                Traceback (most recent call last)",
            "\u001b[0;32m<ipython-input-17-bd18c9f5cba6>\u001b[0m in \u001b[0;36m<module>\u001b[0;34m()\u001b[0m\n\u001b[0;32m----> 1\u001b[0;31m \u001b[0mdf\u001b[0m\u001b[0;34m[\u001b[0m\u001b[0;34m'PRESUPUESTO'\u001b[0m\u001b[0;34m]\u001b[0m \u001b[0;34m=\u001b[0m \u001b[0mdf\u001b[0m\u001b[0;34m[\u001b[0m\u001b[0;34m'PRESUPUESTO'\u001b[0m\u001b[0;34m]\u001b[0m\u001b[0;34m.\u001b[0m\u001b[0mastype\u001b[0m\u001b[0;34m(\u001b[0m\u001b[0mint\u001b[0m\u001b[0;34m)\u001b[0m\u001b[0;34m\u001b[0m\u001b[0;34m\u001b[0m\u001b[0m\n\u001b[0m\u001b[1;32m      2\u001b[0m \u001b[0;31m#Error ya que indica que existen datos como 'No recepcionados'\u001b[0m\u001b[0;34m\u001b[0m\u001b[0;34m\u001b[0m\u001b[0;34m\u001b[0m\u001b[0m\n",
            "\u001b[0;32m/usr/local/lib/python3.7/dist-packages/pandas/core/generic.py\u001b[0m in \u001b[0;36mastype\u001b[0;34m(self, dtype, copy, errors)\u001b[0m\n\u001b[1;32m   5546\u001b[0m         \u001b[0;32melse\u001b[0m\u001b[0;34m:\u001b[0m\u001b[0;34m\u001b[0m\u001b[0;34m\u001b[0m\u001b[0m\n\u001b[1;32m   5547\u001b[0m             \u001b[0;31m# else, only a single dtype is given\u001b[0m\u001b[0;34m\u001b[0m\u001b[0;34m\u001b[0m\u001b[0;34m\u001b[0m\u001b[0m\n\u001b[0;32m-> 5548\u001b[0;31m             \u001b[0mnew_data\u001b[0m \u001b[0;34m=\u001b[0m \u001b[0mself\u001b[0m\u001b[0;34m.\u001b[0m\u001b[0m_mgr\u001b[0m\u001b[0;34m.\u001b[0m\u001b[0mastype\u001b[0m\u001b[0;34m(\u001b[0m\u001b[0mdtype\u001b[0m\u001b[0;34m=\u001b[0m\u001b[0mdtype\u001b[0m\u001b[0;34m,\u001b[0m \u001b[0mcopy\u001b[0m\u001b[0;34m=\u001b[0m\u001b[0mcopy\u001b[0m\u001b[0;34m,\u001b[0m \u001b[0merrors\u001b[0m\u001b[0;34m=\u001b[0m\u001b[0merrors\u001b[0m\u001b[0;34m,\u001b[0m\u001b[0;34m)\u001b[0m\u001b[0;34m\u001b[0m\u001b[0;34m\u001b[0m\u001b[0m\n\u001b[0m\u001b[1;32m   5549\u001b[0m             \u001b[0;32mreturn\u001b[0m \u001b[0mself\u001b[0m\u001b[0;34m.\u001b[0m\u001b[0m_constructor\u001b[0m\u001b[0;34m(\u001b[0m\u001b[0mnew_data\u001b[0m\u001b[0;34m)\u001b[0m\u001b[0;34m.\u001b[0m\u001b[0m__finalize__\u001b[0m\u001b[0;34m(\u001b[0m\u001b[0mself\u001b[0m\u001b[0;34m,\u001b[0m \u001b[0mmethod\u001b[0m\u001b[0;34m=\u001b[0m\u001b[0;34m\"astype\"\u001b[0m\u001b[0;34m)\u001b[0m\u001b[0;34m\u001b[0m\u001b[0;34m\u001b[0m\u001b[0m\n\u001b[1;32m   5550\u001b[0m \u001b[0;34m\u001b[0m\u001b[0m\n",
            "\u001b[0;32m/usr/local/lib/python3.7/dist-packages/pandas/core/internals/managers.py\u001b[0m in \u001b[0;36mastype\u001b[0;34m(self, dtype, copy, errors)\u001b[0m\n\u001b[1;32m    602\u001b[0m         \u001b[0mself\u001b[0m\u001b[0;34m,\u001b[0m \u001b[0mdtype\u001b[0m\u001b[0;34m,\u001b[0m \u001b[0mcopy\u001b[0m\u001b[0;34m:\u001b[0m \u001b[0mbool\u001b[0m \u001b[0;34m=\u001b[0m \u001b[0;32mFalse\u001b[0m\u001b[0;34m,\u001b[0m \u001b[0merrors\u001b[0m\u001b[0;34m:\u001b[0m \u001b[0mstr\u001b[0m \u001b[0;34m=\u001b[0m \u001b[0;34m\"raise\"\u001b[0m\u001b[0;34m\u001b[0m\u001b[0;34m\u001b[0m\u001b[0m\n\u001b[1;32m    603\u001b[0m     ) -> \"BlockManager\":\n\u001b[0;32m--> 604\u001b[0;31m         \u001b[0;32mreturn\u001b[0m \u001b[0mself\u001b[0m\u001b[0;34m.\u001b[0m\u001b[0mapply\u001b[0m\u001b[0;34m(\u001b[0m\u001b[0;34m\"astype\"\u001b[0m\u001b[0;34m,\u001b[0m \u001b[0mdtype\u001b[0m\u001b[0;34m=\u001b[0m\u001b[0mdtype\u001b[0m\u001b[0;34m,\u001b[0m \u001b[0mcopy\u001b[0m\u001b[0;34m=\u001b[0m\u001b[0mcopy\u001b[0m\u001b[0;34m,\u001b[0m \u001b[0merrors\u001b[0m\u001b[0;34m=\u001b[0m\u001b[0merrors\u001b[0m\u001b[0;34m)\u001b[0m\u001b[0;34m\u001b[0m\u001b[0;34m\u001b[0m\u001b[0m\n\u001b[0m\u001b[1;32m    605\u001b[0m \u001b[0;34m\u001b[0m\u001b[0m\n\u001b[1;32m    606\u001b[0m     def convert(\n",
            "\u001b[0;32m/usr/local/lib/python3.7/dist-packages/pandas/core/internals/managers.py\u001b[0m in \u001b[0;36mapply\u001b[0;34m(self, f, align_keys, **kwargs)\u001b[0m\n\u001b[1;32m    407\u001b[0m                 \u001b[0mapplied\u001b[0m \u001b[0;34m=\u001b[0m \u001b[0mb\u001b[0m\u001b[0;34m.\u001b[0m\u001b[0mapply\u001b[0m\u001b[0;34m(\u001b[0m\u001b[0mf\u001b[0m\u001b[0;34m,\u001b[0m \u001b[0;34m**\u001b[0m\u001b[0mkwargs\u001b[0m\u001b[0;34m)\u001b[0m\u001b[0;34m\u001b[0m\u001b[0;34m\u001b[0m\u001b[0m\n\u001b[1;32m    408\u001b[0m             \u001b[0;32melse\u001b[0m\u001b[0;34m:\u001b[0m\u001b[0;34m\u001b[0m\u001b[0;34m\u001b[0m\u001b[0m\n\u001b[0;32m--> 409\u001b[0;31m                 \u001b[0mapplied\u001b[0m \u001b[0;34m=\u001b[0m \u001b[0mgetattr\u001b[0m\u001b[0;34m(\u001b[0m\u001b[0mb\u001b[0m\u001b[0;34m,\u001b[0m \u001b[0mf\u001b[0m\u001b[0;34m)\u001b[0m\u001b[0;34m(\u001b[0m\u001b[0;34m**\u001b[0m\u001b[0mkwargs\u001b[0m\u001b[0;34m)\u001b[0m\u001b[0;34m\u001b[0m\u001b[0;34m\u001b[0m\u001b[0m\n\u001b[0m\u001b[1;32m    410\u001b[0m             \u001b[0mresult_blocks\u001b[0m \u001b[0;34m=\u001b[0m \u001b[0m_extend_blocks\u001b[0m\u001b[0;34m(\u001b[0m\u001b[0mapplied\u001b[0m\u001b[0;34m,\u001b[0m \u001b[0mresult_blocks\u001b[0m\u001b[0;34m)\u001b[0m\u001b[0;34m\u001b[0m\u001b[0;34m\u001b[0m\u001b[0m\n\u001b[1;32m    411\u001b[0m \u001b[0;34m\u001b[0m\u001b[0m\n",
            "\u001b[0;32m/usr/local/lib/python3.7/dist-packages/pandas/core/internals/blocks.py\u001b[0m in \u001b[0;36mastype\u001b[0;34m(self, dtype, copy, errors)\u001b[0m\n\u001b[1;32m    593\u001b[0m             \u001b[0mvals1d\u001b[0m \u001b[0;34m=\u001b[0m \u001b[0mvalues\u001b[0m\u001b[0;34m.\u001b[0m\u001b[0mravel\u001b[0m\u001b[0;34m(\u001b[0m\u001b[0;34m)\u001b[0m\u001b[0;34m\u001b[0m\u001b[0;34m\u001b[0m\u001b[0m\n\u001b[1;32m    594\u001b[0m             \u001b[0;32mtry\u001b[0m\u001b[0;34m:\u001b[0m\u001b[0;34m\u001b[0m\u001b[0;34m\u001b[0m\u001b[0m\n\u001b[0;32m--> 595\u001b[0;31m                 \u001b[0mvalues\u001b[0m \u001b[0;34m=\u001b[0m \u001b[0mastype_nansafe\u001b[0m\u001b[0;34m(\u001b[0m\u001b[0mvals1d\u001b[0m\u001b[0;34m,\u001b[0m \u001b[0mdtype\u001b[0m\u001b[0;34m,\u001b[0m \u001b[0mcopy\u001b[0m\u001b[0;34m=\u001b[0m\u001b[0;32mTrue\u001b[0m\u001b[0;34m)\u001b[0m\u001b[0;34m\u001b[0m\u001b[0;34m\u001b[0m\u001b[0m\n\u001b[0m\u001b[1;32m    596\u001b[0m             \u001b[0;32mexcept\u001b[0m \u001b[0;34m(\u001b[0m\u001b[0mValueError\u001b[0m\u001b[0;34m,\u001b[0m \u001b[0mTypeError\u001b[0m\u001b[0;34m)\u001b[0m\u001b[0;34m:\u001b[0m\u001b[0;34m\u001b[0m\u001b[0;34m\u001b[0m\u001b[0m\n\u001b[1;32m    597\u001b[0m                 \u001b[0;31m# e.g. astype_nansafe can fail on object-dtype of strings\u001b[0m\u001b[0;34m\u001b[0m\u001b[0;34m\u001b[0m\u001b[0;34m\u001b[0m\u001b[0m\n",
            "\u001b[0;32m/usr/local/lib/python3.7/dist-packages/pandas/core/dtypes/cast.py\u001b[0m in \u001b[0;36mastype_nansafe\u001b[0;34m(arr, dtype, copy, skipna)\u001b[0m\n\u001b[1;32m    972\u001b[0m         \u001b[0;31m# work around NumPy brokenness, #1987\u001b[0m\u001b[0;34m\u001b[0m\u001b[0;34m\u001b[0m\u001b[0;34m\u001b[0m\u001b[0m\n\u001b[1;32m    973\u001b[0m         \u001b[0;32mif\u001b[0m \u001b[0mnp\u001b[0m\u001b[0;34m.\u001b[0m\u001b[0missubdtype\u001b[0m\u001b[0;34m(\u001b[0m\u001b[0mdtype\u001b[0m\u001b[0;34m.\u001b[0m\u001b[0mtype\u001b[0m\u001b[0;34m,\u001b[0m \u001b[0mnp\u001b[0m\u001b[0;34m.\u001b[0m\u001b[0minteger\u001b[0m\u001b[0;34m)\u001b[0m\u001b[0;34m:\u001b[0m\u001b[0;34m\u001b[0m\u001b[0;34m\u001b[0m\u001b[0m\n\u001b[0;32m--> 974\u001b[0;31m             \u001b[0;32mreturn\u001b[0m \u001b[0mlib\u001b[0m\u001b[0;34m.\u001b[0m\u001b[0mastype_intsafe\u001b[0m\u001b[0;34m(\u001b[0m\u001b[0marr\u001b[0m\u001b[0;34m.\u001b[0m\u001b[0mravel\u001b[0m\u001b[0;34m(\u001b[0m\u001b[0;34m)\u001b[0m\u001b[0;34m,\u001b[0m \u001b[0mdtype\u001b[0m\u001b[0;34m)\u001b[0m\u001b[0;34m.\u001b[0m\u001b[0mreshape\u001b[0m\u001b[0;34m(\u001b[0m\u001b[0marr\u001b[0m\u001b[0;34m.\u001b[0m\u001b[0mshape\u001b[0m\u001b[0;34m)\u001b[0m\u001b[0;34m\u001b[0m\u001b[0;34m\u001b[0m\u001b[0m\n\u001b[0m\u001b[1;32m    975\u001b[0m \u001b[0;34m\u001b[0m\u001b[0m\n\u001b[1;32m    976\u001b[0m         \u001b[0;31m# if we have a datetime/timedelta array of objects\u001b[0m\u001b[0;34m\u001b[0m\u001b[0;34m\u001b[0m\u001b[0;34m\u001b[0m\u001b[0m\n",
            "\u001b[0;32mpandas/_libs/lib.pyx\u001b[0m in \u001b[0;36mpandas._libs.lib.astype_intsafe\u001b[0;34m()\u001b[0m\n",
            "\u001b[0;31mValueError\u001b[0m: invalid literal for int() with base 10: 'No Recepcionado'"
          ]
        }
      ]
    },
    {
      "cell_type": "code",
      "metadata": {
        "colab": {
          "base_uri": "https://localhost:8080/"
        },
        "id": "wc-G93hwJwUS",
        "outputId": "9838ea94-5552-4a7a-d042-89b0ea989a43"
      },
      "source": [
        "df['PRESUPUESTO'][df['PRESUPUESTO'] == 'No Recepcionado']"
      ],
      "execution_count": null,
      "outputs": [
        {
          "output_type": "execute_result",
          "data": {
            "text/plain": [
              "Código Comuna 2018\n",
              "5602    No Recepcionado\n",
              "6110    No Recepcionado\n",
              "Name: PRESUPUESTO, dtype: object"
            ]
          },
          "metadata": {},
          "execution_count": 18
        }
      ]
    },
    {
      "cell_type": "code",
      "metadata": {
        "id": "wp9Bod7gI5WG"
      },
      "source": [
        "df['PRESUPUESTO'] = pd.to_numeric(df['PRESUPUESTO'], errors = 'coerce')\n"
      ],
      "execution_count": null,
      "outputs": []
    },
    {
      "cell_type": "code",
      "metadata": {
        "id": "FQvs1dRZLkFK"
      },
      "source": [
        "df = df.dropna()\n",
        "# Para este caso aplica dropna, ya que los valores NaN(nulos) no aportan (no interesa entrenar un modelo con valores nulos)\n",
        "# Conviene limpiar la data para poder evaluar correctamente más tarde\n",
        "# No se estan viendo las columnas especificas si no  la variable"
      ],
      "execution_count": null,
      "outputs": []
    },
    {
      "cell_type": "markdown",
      "metadata": {
        "id": "EygTQ9kxj-Bw"
      },
      "source": [
        "## Actividad\n",
        "\n",
        "El principal objetivo de esta actividad es evaluar la capacidad de entrenar y usar algoritmos del área de _Machine Learning_. Además, vamos a evaluar que entiendas diferentes medidas de desempeño que se utilizan tanto en contextos de regresión como en contextos de clasificación.\n",
        "\n",
        "### Parte 01 (3.5 pts) - Entrenando un algoritmo de regresión\n",
        "\n",
        "En la primera parte de la tarea queremos que entrenes un modelo de regresión. Para esto, considera los datos municipales con los que ya has trabajado antes. Lo que tienes que hacer es un modelo de regresión lineal para predecir el presupuesto de una comuna en función de alguna de las siguientes variables:\n",
        "\n",
        "- Metros Plaza\n",
        "- Metros Parque\n",
        "- Personas que Trabajan en el Municipio\n",
        "- Población\n",
        "\n",
        "Para esto, tienes que decidir tú mismo la variable con la que vas a entrenar tu modelo. **Debes justificar la elección de la variable**, para esto te tienes apoyar en las técnicas vistas en clase (ej. visualización de los datos, cálculo de correlación, etc.). Luego de eso, debes medir el desempeño de dos formas: \n",
        "\n",
        "- Primero, mide el desempeño del regresor usando _cross-validation_, considerando `cv=5`. Utiliza la métrica `neg_mean_squared_error`.\n",
        "- Segundo, computa la predicción sobre todo el _dataset_ y luego calcula la métrica $R^2$. Puedes ver cómo importar y usar esta métrica [aquí](https://scikit-learn.org/stable/modules/generated/sklearn.metrics.r2_score.html).\n",
        "\n",
        "En base a las métricas de desempeño calculadas, discute qué tan bueno es tu modelo y cómo crees que podría mejorar.\n",
        "\n",
        "---\n",
        "\n",
        "La distribución de puntaje de esta pregunta es la siguiente:\n",
        "\n",
        "- **0.75 pto**. Escoger la variable con la que se va a predecir el presupuesto comunal.\n",
        "- **0.75 pto**. Entrenar la regresión en Scikit-Learn.\n",
        "- **1 pto**. Cálcular las medidas de desempeño solicitadas.\n",
        "- **1 pto**. Análisis de los resultados.\n",
        "\n",
        "### Parte 02 - Entrenando un clasificador\n",
        "\n",
        "En esta parte de la tarea vamos a entrenar un clasificador binario. Para esto vamos a utilizar el _dataset_ de las **Flores Iris** visto en clase (lo importamos en la celda correspondiente a esta pregunta). La idea es que utilizando la clase `SGDClassifier` entrenes un clasificador que prediga si una flor es o no una **Iris Virginica** en función de las cuatro _features_ del _dataset_ (largo y ancho del pétalo y sépalo). Para esto debes dividir el _dataset_ en una parte de entrenamiento, cuyo tamaño debe ser 70% del _dataset_, y otra de prueba, que corresponde al 30% restante del _dataset_. \n",
        "\n",
        "Luego, debes calcular el _accuracy_, _precision_ y _recall_ de tu clasificador. En base a estas métricas debes discutir qué tan bueno es tu clasificador y cómo crees que puede mejorar. Además, se pide que describas dos situaciones ficticias, una en la que el clasificador debería privilegiar la precisión por sobre el _recall_ y otra situación en donde se debería privilegiar el _recall_ por sobre la precisión.\n",
        "\n",
        "---\n",
        "\n",
        "La distribución de puntaje de esta pregunta es la siguiente:\n",
        "\n",
        "- **1 pto**. Entrenar el clasificador.\n",
        "- **1 pto**. Cálculo de las medidas de desempeño y la discusión de los resultados.\n",
        "- **0.5 pts**. Descripción de las situaciones ficticias.\n",
        "\n",
        "## Detalles académicos\n",
        "\n",
        "La nota de cada integrante de la pareja será calculada como la suma de los puntos obtenidos en la tarea más un punto base. **La tarea debe ser subida al buzón correspondiente de Webcursos hasta el 02 de noviembre a las 23:59 horas**."
      ]
    },
    {
      "cell_type": "markdown",
      "metadata": {
        "id": "E8t9AzJQj-Bx"
      },
      "source": [
        "## Pregunta 1"
      ]
    },
    {
      "cell_type": "code",
      "metadata": {
        "id": "x_9UaZ_jj-By",
        "colab": {
          "base_uri": "https://localhost:8080/",
          "height": 201
        },
        "outputId": "c2079a76-1c9e-4970-f608-293b7b2fb1a7"
      },
      "source": [
        "# Continúa la solución acá\n",
        "# Primero vemos alguna manera de justicar que variables son correctas para utilizar en el modelo de regresión\n",
        "\n",
        "# Por matriz de correlación\n",
        "df[['PRESUPUESTO','metros_plaza','metros_parque','personas_trabaja','POBLACIÓN']].corr()"
      ],
      "execution_count": null,
      "outputs": [
        {
          "output_type": "execute_result",
          "data": {
            "text/html": [
              "<div>\n",
              "<style scoped>\n",
              "    .dataframe tbody tr th:only-of-type {\n",
              "        vertical-align: middle;\n",
              "    }\n",
              "\n",
              "    .dataframe tbody tr th {\n",
              "        vertical-align: top;\n",
              "    }\n",
              "\n",
              "    .dataframe thead th {\n",
              "        text-align: right;\n",
              "    }\n",
              "</style>\n",
              "<table border=\"1\" class=\"dataframe\">\n",
              "  <thead>\n",
              "    <tr style=\"text-align: right;\">\n",
              "      <th></th>\n",
              "      <th>PRESUPUESTO</th>\n",
              "      <th>metros_plaza</th>\n",
              "      <th>metros_parque</th>\n",
              "      <th>personas_trabaja</th>\n",
              "      <th>POBLACIÓN</th>\n",
              "    </tr>\n",
              "  </thead>\n",
              "  <tbody>\n",
              "    <tr>\n",
              "      <th>PRESUPUESTO</th>\n",
              "      <td>1.000000</td>\n",
              "      <td>0.087076</td>\n",
              "      <td>-0.008260</td>\n",
              "      <td>0.834391</td>\n",
              "      <td>0.775676</td>\n",
              "    </tr>\n",
              "    <tr>\n",
              "      <th>metros_plaza</th>\n",
              "      <td>0.087076</td>\n",
              "      <td>1.000000</td>\n",
              "      <td>-0.005678</td>\n",
              "      <td>0.064241</td>\n",
              "      <td>0.104181</td>\n",
              "    </tr>\n",
              "    <tr>\n",
              "      <th>metros_parque</th>\n",
              "      <td>-0.008260</td>\n",
              "      <td>-0.005678</td>\n",
              "      <td>1.000000</td>\n",
              "      <td>-0.008347</td>\n",
              "      <td>-0.018386</td>\n",
              "    </tr>\n",
              "    <tr>\n",
              "      <th>personas_trabaja</th>\n",
              "      <td>0.834391</td>\n",
              "      <td>0.064241</td>\n",
              "      <td>-0.008347</td>\n",
              "      <td>1.000000</td>\n",
              "      <td>0.843317</td>\n",
              "    </tr>\n",
              "    <tr>\n",
              "      <th>POBLACIÓN</th>\n",
              "      <td>0.775676</td>\n",
              "      <td>0.104181</td>\n",
              "      <td>-0.018386</td>\n",
              "      <td>0.843317</td>\n",
              "      <td>1.000000</td>\n",
              "    </tr>\n",
              "  </tbody>\n",
              "</table>\n",
              "</div>"
            ],
            "text/plain": [
              "                  PRESUPUESTO  metros_plaza  ...  personas_trabaja  POBLACIÓN\n",
              "PRESUPUESTO          1.000000      0.087076  ...          0.834391   0.775676\n",
              "metros_plaza         0.087076      1.000000  ...          0.064241   0.104181\n",
              "metros_parque       -0.008260     -0.005678  ...         -0.008347  -0.018386\n",
              "personas_trabaja     0.834391      0.064241  ...          1.000000   0.843317\n",
              "POBLACIÓN            0.775676      0.104181  ...          0.843317   1.000000\n",
              "\n",
              "[5 rows x 5 columns]"
            ]
          },
          "metadata": {},
          "execution_count": 15
        }
      ]
    },
    {
      "cell_type": "code",
      "metadata": {
        "colab": {
          "base_uri": "https://localhost:8080/",
          "height": 361
        },
        "id": "wMwU-owxNB-p",
        "outputId": "76e226b8-62d7-499f-acc9-24805ed1319a"
      },
      "source": [
        "sns.heatmap(df[['PRESUPUESTO','metros_plaza','metros_parque','personas_trabaja','POBLACIÓN']].corr(), annot = True)\n",
        "# Podemos notar alta correlación con personas_trabaja y POBLACION"
      ],
      "execution_count": null,
      "outputs": [
        {
          "output_type": "execute_result",
          "data": {
            "text/plain": [
              "<matplotlib.axes._subplots.AxesSubplot at 0x7f8732024690>"
            ]
          },
          "metadata": {},
          "execution_count": 16
        },
        {
          "output_type": "display_data",
          "data": {
            "image/png": "[encoded data removed]",
            "text/plain": [
              "<Figure size 432x288 with 2 Axes>"
            ]
          },
          "metadata": {
            "needs_background": "light"
          }
        }
      ]
    },
    {
      "cell_type": "code",
      "metadata": {
        "id": "qOqblGtqNz6L"
      },
      "source": [
        "# Entrenar modelo N1 con variable \"Personas_trabaja\"\n",
        "from sklearn.model_selection import train_test_split\n",
        "data = df[['personas_trabaja','PRESUPUESTO']]\n",
        "train_set, test_set = train_test_split(data, test_size = 0.15)"
      ],
      "execution_count": null,
      "outputs": []
    },
    {
      "cell_type": "code",
      "metadata": {
        "id": "naVi_FFJOc9s"
      },
      "source": [
        "from sklearn.linear_model import LinearRegression\n",
        "x_train = train_set[['personas_trabaja']]\n",
        "y_train = train_set[['PRESUPUESTO']]"
      ],
      "execution_count": null,
      "outputs": []
    },
    {
      "cell_type": "code",
      "metadata": {
        "id": "iaQXgqSvO0PI"
      },
      "source": [
        "# Modelo sin entrenar\n",
        "lin_reg = LinearRegression() "
      ],
      "execution_count": null,
      "outputs": []
    },
    {
      "cell_type": "code",
      "metadata": {
        "colab": {
          "base_uri": "https://localhost:8080/"
        },
        "id": "yo0JuJeCO8Tx",
        "outputId": "69ee8a49-831f-4987-c41f-2df04370147c"
      },
      "source": [
        "# Pasar los datos de entrenamiento\n",
        "lin_reg.fit (x_train, y_train)"
      ],
      "execution_count": null,
      "outputs": [
        {
          "output_type": "execute_result",
          "data": {
            "text/plain": [
              "LinearRegression(copy_X=True, fit_intercept=True, n_jobs=None, normalize=False)"
            ]
          },
          "metadata": {},
          "execution_count": 20
        }
      ]
    },
    {
      "cell_type": "code",
      "metadata": {
        "colab": {
          "base_uri": "https://localhost:8080/",
          "height": 307
        },
        "id": "1lId28hZPJka",
        "outputId": "3a3fd432-5d77-4a8c-f50f-5274703f4b0c"
      },
      "source": [
        "sns.scatterplot(data = df, x = 'personas_trabaja', y = 'PRESUPUESTO')\n",
        "persona = df[['personas_trabaja']]\n",
        "presup = df[['PRESUPUESTO']]\n",
        "plt.plot(persona, lin_reg.predict(persona), color = 'red')"
      ],
      "execution_count": null,
      "outputs": [
        {
          "output_type": "execute_result",
          "data": {
            "text/plain": [
              "[<matplotlib.lines.Line2D at 0x7f8723606dd0>]"
            ]
          },
          "metadata": {},
          "execution_count": 21
        },
        {
          "output_type": "display_data",
          "data": {
            "image/png": "[encoded data removed]",
            "text/plain": [
              "<Figure size 432x288 with 1 Axes>"
            ]
          },
          "metadata": {
            "needs_background": "light"
          }
        }
      ]
    },
    {
      "cell_type": "code",
      "metadata": {
        "colab": {
          "base_uri": "https://localhost:8080/"
        },
        "id": "-QJhCh4KQUtD",
        "outputId": "87941c6f-af29-441d-8506-d2f19c75ed80"
      },
      "source": [
        "# Medidas de desempeño\n",
        "# 1) Error cuadratico medio\n",
        "from sklearn.metrics import mean_squared_error\n",
        "x_test = test_set[['personas_trabaja']]\n",
        "y_pred = lin_reg.predict(x_test)\n",
        "y_pred\n",
        "\n",
        "y_test = test_set[['PRESUPUESTO']]\n",
        "y_test\n",
        "\n",
        "lin_mse = mean_squared_error(y_test,y_pred)\n",
        "lin_mse\n"
      ],
      "execution_count": null,
      "outputs": [
        {
          "output_type": "execute_result",
          "data": {
            "text/plain": [
              "97728144357030.19"
            ]
          },
          "metadata": {},
          "execution_count": 22
        }
      ]
    },
    {
      "cell_type": "code",
      "metadata": {
        "colab": {
          "base_uri": "https://localhost:8080/"
        },
        "id": "whxDpz2nSOGR",
        "outputId": "7f180dd2-d6e0-44e1-dae1-acfaf4b2c7db"
      },
      "source": [
        "# Valor más aterrizado al contexto con...\n",
        "np.sqrt(lin_mse)"
      ],
      "execution_count": null,
      "outputs": [
        {
          "output_type": "execute_result",
          "data": {
            "text/plain": [
              "9885754.617480153"
            ]
          },
          "metadata": {},
          "execution_count": 23
        }
      ]
    },
    {
      "cell_type": "code",
      "metadata": {
        "colab": {
          "base_uri": "https://localhost:8080/"
        },
        "id": "u6G-cTyvT1tm",
        "outputId": "0778c8f9-01c0-4452-d023-b3327acc256e"
      },
      "source": [
        "# 2) R2\n",
        "from sklearn.metrics import r2_score\n",
        "r2_score(y_test, y_pred)"
      ],
      "execution_count": null,
      "outputs": [
        {
          "output_type": "execute_result",
          "data": {
            "text/plain": [
              "0.5990758829428766"
            ]
          },
          "metadata": {},
          "execution_count": 24
        }
      ]
    },
    {
      "cell_type": "code",
      "metadata": {
        "colab": {
          "base_uri": "https://localhost:8080/"
        },
        "id": "kt1GdETySn_J",
        "outputId": "624bc57c-5c81-40c0-970c-7f6d1c10de45"
      },
      "source": [
        "# 3) cross-validation\n",
        "from sklearn.model_selection import cross_val_score\n",
        "\n",
        "lin_reg = LinearRegression()\n",
        "\n",
        "x = df[['personas_trabaja']]\n",
        "y = df[['PRESUPUESTO']]\n",
        "scores = cross_val_score(lin_reg, x, y, scoring ='neg_mean_squared_error', cv=5)\n",
        "\n",
        "lin_rmse_scores = np.sqrt(-scores)\n",
        "lin_rmse_scores"
      ],
      "execution_count": null,
      "outputs": [
        {
          "output_type": "execute_result",
          "data": {
            "text/plain": [
              "array([ 9203923.18096245,  4231335.83886512,  6820860.96223242,\n",
              "       31556154.92961301, 12610603.67859604])"
            ]
          },
          "metadata": {},
          "execution_count": 25
        }
      ]
    },
    {
      "cell_type": "code",
      "metadata": {
        "id": "qrQXYCmJTwVx"
      },
      "source": [
        "# Entrenar modelo N2 con variable \"POBLACION\"\n",
        "data = df[['POBLACIÓN','PRESUPUESTO']]\n",
        "train_set, test_set = train_test_split(data, test_size = 0.15)\n"
      ],
      "execution_count": null,
      "outputs": []
    },
    {
      "cell_type": "code",
      "metadata": {
        "id": "LzYIraRHU48C"
      },
      "source": [
        "x_train2 = train_set[['POBLACIÓN']]\n",
        "y_train2 = train_set[['PRESUPUESTO']]"
      ],
      "execution_count": null,
      "outputs": []
    },
    {
      "cell_type": "code",
      "metadata": {
        "id": "aLRqF-VAU7nV"
      },
      "source": [
        "# Modelo sin entrenar\n",
        "lin_reg2 = LinearRegression() "
      ],
      "execution_count": null,
      "outputs": []
    },
    {
      "cell_type": "code",
      "metadata": {
        "colab": {
          "base_uri": "https://localhost:8080/"
        },
        "id": "cP4a05z7VBVJ",
        "outputId": "6b84ec05-9829-4769-f0d0-d798097ab658"
      },
      "source": [
        "# Pasar los datos de entrenamiento\n",
        "lin_reg2.fit (x_train2, y_train2)"
      ],
      "execution_count": null,
      "outputs": [
        {
          "output_type": "execute_result",
          "data": {
            "text/plain": [
              "LinearRegression(copy_X=True, fit_intercept=True, n_jobs=None, normalize=False)"
            ]
          },
          "metadata": {},
          "execution_count": 29
        }
      ]
    },
    {
      "cell_type": "code",
      "metadata": {
        "colab": {
          "base_uri": "https://localhost:8080/",
          "height": 305
        },
        "id": "aCPLB1j1VEMJ",
        "outputId": "98ebef6d-893b-4f0a-aef4-81177e7e5660"
      },
      "source": [
        "sns.scatterplot(data = df, x = 'POBLACIÓN', y = 'PRESUPUESTO')\n",
        "pobla = df[['POBLACIÓN']]\n",
        "presup = df[['PRESUPUESTO']]\n",
        "plt.plot(pobla, lin_reg2.predict(pobla), color = 'red')"
      ],
      "execution_count": null,
      "outputs": [
        {
          "output_type": "execute_result",
          "data": {
            "text/plain": [
              "[<matplotlib.lines.Line2D at 0x7f87235ab310>]"
            ]
          },
          "metadata": {},
          "execution_count": 30
        },
        {
          "output_type": "display_data",
          "data": {
            "image/png": "[encoded data removed]",
            "text/plain": [
              "<Figure size 432x288 with 1 Axes>"
            ]
          },
          "metadata": {
            "needs_background": "light"
          }
        }
      ]
    },
    {
      "cell_type": "code",
      "metadata": {
        "colab": {
          "base_uri": "https://localhost:8080/"
        },
        "id": "ZZERiRsGVGao",
        "outputId": "3cd54705-1540-4b16-b08e-c5dc58fcee47"
      },
      "source": [
        "# Medidas de desempeño\n",
        "# 1) Error cuadratico medio\n",
        "\n",
        "x_test = test_set[['POBLACIÓN']]\n",
        "y_pred = lin_reg2.predict(x_test)\n",
        "y_pred\n",
        "\n",
        "y_test = test_set[['PRESUPUESTO']]\n",
        "y_test\n",
        "\n",
        "lin_mse = mean_squared_error(y_test,y_pred)\n",
        "lin_mse"
      ],
      "execution_count": null,
      "outputs": [
        {
          "output_type": "execute_result",
          "data": {
            "text/plain": [
              "435218064312439.6"
            ]
          },
          "metadata": {},
          "execution_count": 31
        }
      ]
    },
    {
      "cell_type": "code",
      "metadata": {
        "colab": {
          "base_uri": "https://localhost:8080/"
        },
        "id": "7dIYN4KJVJGk",
        "outputId": "11ffc808-4f50-436c-bcd3-bd26edb07c14"
      },
      "source": [
        "# Valor más aterrizado al contexto con...\n",
        "np.sqrt(lin_mse)"
      ],
      "execution_count": null,
      "outputs": [
        {
          "output_type": "execute_result",
          "data": {
            "text/plain": [
              "20861880.651380394"
            ]
          },
          "metadata": {},
          "execution_count": 32
        }
      ]
    },
    {
      "cell_type": "code",
      "metadata": {
        "colab": {
          "base_uri": "https://localhost:8080/"
        },
        "id": "s6aFOSB6VJfE",
        "outputId": "9add3256-85e3-4ee3-c3a5-0eab6a055eb2"
      },
      "source": [
        "# 2) R2\n",
        "from sklearn.metrics import r2_score\n",
        "r2_score(y_test, y_pred)"
      ],
      "execution_count": null,
      "outputs": [
        {
          "output_type": "execute_result",
          "data": {
            "text/plain": [
              "0.35257840851472877"
            ]
          },
          "metadata": {},
          "execution_count": 33
        }
      ]
    },
    {
      "cell_type": "code",
      "metadata": {
        "colab": {
          "base_uri": "https://localhost:8080/"
        },
        "id": "8FnaM8y5VLaq",
        "outputId": "c4899b9c-c560-4734-8a6c-18e37ac41573"
      },
      "source": [
        "# 3) cross-validation\n",
        "from sklearn.model_selection import cross_val_score\n",
        "\n",
        "lin_reg2 = LinearRegression()\n",
        "\n",
        "x2 = df[['POBLACIÓN']]\n",
        "y2 = df[['PRESUPUESTO']]\n",
        "scores2 = cross_val_score(lin_reg2, x2, y2, scoring ='neg_mean_squared_error', cv=5)\n",
        "\n",
        "lin_rmse_scores2 = np.sqrt(-scores2)\n",
        "lin_rmse_scores2"
      ],
      "execution_count": null,
      "outputs": [
        {
          "output_type": "execute_result",
          "data": {
            "text/plain": [
              "array([ 4900072.00757227,  4956265.81988176,  5000467.74374843,\n",
              "       37099744.33812281, 19957493.056282  ])"
            ]
          },
          "metadata": {},
          "execution_count": 34
        }
      ]
    },
    {
      "cell_type": "markdown",
      "metadata": {
        "id": "ggcO2bVIXdfL"
      },
      "source": [
        "Análisis de los resultados\n",
        "\n",
        "Luego de haber realizado dos modelos de regresión para predecir el presupuesto, por medio de dos variables que presentaron alta correlacion, nos damos cuenta que el mejor modelo fue el que se utiliza la variable trabajadores_total, ya que tiene mayor R2 (medida de desempeño), 85.6% frente a solo un 36,7%.\n",
        "Para poder mejorar el desempeño de los modelos deberiamos notar la existencia de puntos \"outliears\" por medio de visualizaciones (manera rápida), estos puntos son los que generar ruido dentro de los modelos y generan complicaciones en las predicciones, por tanto se deberian sacar de la data y proceder a realizar la creación del modelo nuevamente."
      ]
    },
    {
      "cell_type": "markdown",
      "metadata": {
        "id": "TPWvysF2j-By"
      },
      "source": [
        "## Pregunta 2"
      ]
    },
    {
      "cell_type": "code",
      "metadata": {
        "id": "ntCapyaPj-By",
        "colab": {
          "base_uri": "https://localhost:8080/",
          "height": 411
        },
        "outputId": "614f9ca2-c0dd-44ac-b1ee-7d94fa1e5d8c"
      },
      "source": [
        "from sklearn import datasets\n",
        "import pandas as pd\n",
        "import numpy as np\n",
        "from sklearn.model_selection import train_test_split\n",
        "\n",
        "\n",
        "iris = datasets.load_iris()\n",
        "iris.keys()\n",
        "df = pd.DataFrame(iris['data'])\n",
        "df.columns = iris.feature_names\n",
        "df"
      ],
      "execution_count": null,
      "outputs": [
        {
          "output_type": "execute_result",
          "data": {
            "text/html": [
              "<div>\n",
              "<style scoped>\n",
              "    .dataframe tbody tr th:only-of-type {\n",
              "        vertical-align: middle;\n",
              "    }\n",
              "\n",
              "    .dataframe tbody tr th {\n",
              "        vertical-align: top;\n",
              "    }\n",
              "\n",
              "    .dataframe thead th {\n",
              "        text-align: right;\n",
              "    }\n",
              "</style>\n",
              "<table border=\"1\" class=\"dataframe\">\n",
              "  <thead>\n",
              "    <tr style=\"text-align: right;\">\n",
              "      <th></th>\n",
              "      <th>sepal length (cm)</th>\n",
              "      <th>sepal width (cm)</th>\n",
              "      <th>petal length (cm)</th>\n",
              "      <th>petal width (cm)</th>\n",
              "    </tr>\n",
              "  </thead>\n",
              "  <tbody>\n",
              "    <tr>\n",
              "      <th>0</th>\n",
              "      <td>5.1</td>\n",
              "      <td>3.5</td>\n",
              "      <td>1.4</td>\n",
              "      <td>0.2</td>\n",
              "    </tr>\n",
              "    <tr>\n",
              "      <th>1</th>\n",
              "      <td>4.9</td>\n",
              "      <td>3.0</td>\n",
              "      <td>1.4</td>\n",
              "      <td>0.2</td>\n",
              "    </tr>\n",
              "    <tr>\n",
              "      <th>2</th>\n",
              "      <td>4.7</td>\n",
              "      <td>3.2</td>\n",
              "      <td>1.3</td>\n",
              "      <td>0.2</td>\n",
              "    </tr>\n",
              "    <tr>\n",
              "      <th>3</th>\n",
              "      <td>4.6</td>\n",
              "      <td>3.1</td>\n",
              "      <td>1.5</td>\n",
              "      <td>0.2</td>\n",
              "    </tr>\n",
              "    <tr>\n",
              "      <th>4</th>\n",
              "      <td>5.0</td>\n",
              "      <td>3.6</td>\n",
              "      <td>1.4</td>\n",
              "      <td>0.2</td>\n",
              "    </tr>\n",
              "    <tr>\n",
              "      <th>...</th>\n",
              "      <td>...</td>\n",
              "      <td>...</td>\n",
              "      <td>...</td>\n",
              "      <td>...</td>\n",
              "    </tr>\n",
              "    <tr>\n",
              "      <th>145</th>\n",
              "      <td>6.7</td>\n",
              "      <td>3.0</td>\n",
              "      <td>5.2</td>\n",
              "      <td>2.3</td>\n",
              "    </tr>\n",
              "    <tr>\n",
              "      <th>146</th>\n",
              "      <td>6.3</td>\n",
              "      <td>2.5</td>\n",
              "      <td>5.0</td>\n",
              "      <td>1.9</td>\n",
              "    </tr>\n",
              "    <tr>\n",
              "      <th>147</th>\n",
              "      <td>6.5</td>\n",
              "      <td>3.0</td>\n",
              "      <td>5.2</td>\n",
              "      <td>2.0</td>\n",
              "    </tr>\n",
              "    <tr>\n",
              "      <th>148</th>\n",
              "      <td>6.2</td>\n",
              "      <td>3.4</td>\n",
              "      <td>5.4</td>\n",
              "      <td>2.3</td>\n",
              "    </tr>\n",
              "    <tr>\n",
              "      <th>149</th>\n",
              "      <td>5.9</td>\n",
              "      <td>3.0</td>\n",
              "      <td>5.1</td>\n",
              "      <td>1.8</td>\n",
              "    </tr>\n",
              "  </tbody>\n",
              "</table>\n",
              "<p>150 rows × 4 columns</p>\n",
              "</div>"
            ],
            "text/plain": [
              "     sepal length (cm)  sepal width (cm)  petal length (cm)  petal width (cm)\n",
              "0                  5.1               3.5                1.4               0.2\n",
              "1                  4.9               3.0                1.4               0.2\n",
              "2                  4.7               3.2                1.3               0.2\n",
              "3                  4.6               3.1                1.5               0.2\n",
              "4                  5.0               3.6                1.4               0.2\n",
              "..                 ...               ...                ...               ...\n",
              "145                6.7               3.0                5.2               2.3\n",
              "146                6.3               2.5                5.0               1.9\n",
              "147                6.5               3.0                5.2               2.0\n",
              "148                6.2               3.4                5.4               2.3\n",
              "149                5.9               3.0                5.1               1.8\n",
              "\n",
              "[150 rows x 4 columns]"
            ]
          },
          "metadata": {},
          "execution_count": 38
        }
      ]
    },
    {
      "cell_type": "code",
      "metadata": {
        "id": "mZ2b5Ctve91n",
        "colab": {
          "base_uri": "https://localhost:8080/"
        },
        "outputId": "497d0536-d5ce-4bd0-b6c4-f86f580e0544"
      },
      "source": [
        "# Recuerda que las flores Virgínica son las de tipo 2\n",
        "iris['target']"
      ],
      "execution_count": null,
      "outputs": [
        {
          "output_type": "execute_result",
          "data": {
            "text/plain": [
              "array([0, 0, 0, 0, 0, 0, 0, 0, 0, 0, 0, 0, 0, 0, 0, 0, 0, 0, 0, 0, 0, 0,\n",
              "       0, 0, 0, 0, 0, 0, 0, 0, 0, 0, 0, 0, 0, 0, 0, 0, 0, 0, 0, 0, 0, 0,\n",
              "       0, 0, 0, 0, 0, 0, 1, 1, 1, 1, 1, 1, 1, 1, 1, 1, 1, 1, 1, 1, 1, 1,\n",
              "       1, 1, 1, 1, 1, 1, 1, 1, 1, 1, 1, 1, 1, 1, 1, 1, 1, 1, 1, 1, 1, 1,\n",
              "       1, 1, 1, 1, 1, 1, 1, 1, 1, 1, 1, 1, 2, 2, 2, 2, 2, 2, 2, 2, 2, 2,\n",
              "       2, 2, 2, 2, 2, 2, 2, 2, 2, 2, 2, 2, 2, 2, 2, 2, 2, 2, 2, 2, 2, 2,\n",
              "       2, 2, 2, 2, 2, 2, 2, 2, 2, 2, 2, 2, 2, 2, 2, 2, 2, 2])"
            ]
          },
          "metadata": {},
          "execution_count": 39
        }
      ]
    },
    {
      "cell_type": "code",
      "metadata": {
        "id": "21u-eytfX12n"
      },
      "source": [
        "#Dividiremos los datos en los grupos de test y train.\n",
        "X_train, X_test, y_train, y_test = train_test_split(df, iris[\"target\"], test_size = 0.3)"
      ],
      "execution_count": null,
      "outputs": []
    },
    {
      "cell_type": "code",
      "metadata": {
        "id": "wrJwM5kZYDR3"
      },
      "source": [
        "#Transformaremos las variables numéricas a binarias True/False.\n",
        "y_train = (y_train == 2)\n",
        "y_test = (y_test == 2)"
      ],
      "execution_count": null,
      "outputs": []
    },
    {
      "cell_type": "code",
      "metadata": {
        "colab": {
          "base_uri": "https://localhost:8080/"
        },
        "id": "L8CWGVBGZmRA",
        "outputId": "34d4970b-925e-43ec-8bad-24f73d121325"
      },
      "source": [
        "from sklearn.linear_model import SGDClassifier\n",
        "\n",
        "# Modelo que vamos a entrenar\n",
        "sgd_clf = SGDClassifier()\n",
        "sgd_clf.fit(X_train, y_train)\n",
        "\n"
      ],
      "execution_count": null,
      "outputs": [
        {
          "output_type": "execute_result",
          "data": {
            "text/plain": [
              "SGDClassifier(alpha=0.0001, average=False, class_weight=None,\n",
              "              early_stopping=False, epsilon=0.1, eta0=0.0, fit_intercept=True,\n",
              "              l1_ratio=0.15, learning_rate='optimal', loss='hinge',\n",
              "              max_iter=1000, n_iter_no_change=5, n_jobs=None, penalty='l2',\n",
              "              power_t=0.5, random_state=None, shuffle=True, tol=0.001,\n",
              "              validation_fraction=0.1, verbose=0, warm_start=False)"
            ]
          },
          "metadata": {},
          "execution_count": 59
        }
      ]
    },
    {
      "cell_type": "code",
      "metadata": {
        "colab": {
          "base_uri": "https://localhost:8080/"
        },
        "id": "6DdBKnm6ae7z",
        "outputId": "f86ac3d2-c1c4-4d9f-93df-b8db678727aa"
      },
      "source": [
        "#Predecimos\n",
        "y_pred = sgd_clf.predict(X_test)\n",
        "y_pred"
      ],
      "execution_count": null,
      "outputs": [
        {
          "output_type": "execute_result",
          "data": {
            "text/plain": [
              "array([ True, False,  True,  True, False, False,  True,  True, False,\n",
              "       False, False,  True,  True,  True, False, False,  True,  True,\n",
              "       False,  True,  True, False, False,  True,  True, False, False,\n",
              "        True, False, False,  True, False,  True, False, False, False,\n",
              "        True,  True, False,  True,  True,  True,  True,  True, False])"
            ]
          },
          "metadata": {},
          "execution_count": 60
        }
      ]
    },
    {
      "cell_type": "code",
      "metadata": {
        "colab": {
          "base_uri": "https://localhost:8080/"
        },
        "id": "BFT91hWES7EC",
        "outputId": "129b7f98-6f6b-4698-bcbb-28891021767d"
      },
      "source": [
        "#Calculamos matriz de confusión\n",
        "from sklearn.metrics import confusion_matrix\n",
        "\n",
        "print(confusion_matrix(y_test, y_pred))"
      ],
      "execution_count": null,
      "outputs": [
        {
          "output_type": "stream",
          "name": "stdout",
          "text": [
            "[[21  6]\n",
            " [ 0 18]]\n"
          ]
        }
      ]
    },
    {
      "cell_type": "code",
      "metadata": {
        "colab": {
          "base_uri": "https://localhost:8080/"
        },
        "id": "bBsL5YA5bEKX",
        "outputId": "b90c810b-f1d3-4ae2-b7bb-b03e5e5b5549"
      },
      "source": [
        "#Calculamos accuracy\n",
        "from sklearn.metrics import accuracy_score\n",
        "\n",
        "print(accuracy_score(y_test, y_pred))"
      ],
      "execution_count": null,
      "outputs": [
        {
          "output_type": "stream",
          "name": "stdout",
          "text": [
            "0.8666666666666667\n"
          ]
        }
      ]
    },
    {
      "cell_type": "code",
      "metadata": {
        "colab": {
          "base_uri": "https://localhost:8080/"
        },
        "id": "0uyIAqymbIgV",
        "outputId": "c95b093d-3b93-48d4-ddbf-d411e8f11549"
      },
      "source": [
        "from sklearn.metrics import precision_score, recall_score, f1_score\n",
        "\n",
        "#Calculamos precision\n",
        "print(precision_score(y_test, y_pred))"
      ],
      "execution_count": null,
      "outputs": [
        {
          "output_type": "stream",
          "name": "stdout",
          "text": [
            "0.75\n"
          ]
        }
      ]
    },
    {
      "cell_type": "code",
      "metadata": {
        "colab": {
          "base_uri": "https://localhost:8080/"
        },
        "id": "xHkGTNzqS3r8",
        "outputId": "fc7da9a5-885d-4064-b482-b547ddd121b8"
      },
      "source": [
        "#Calculamos recall\n",
        "print(recall_score(y_test, y_pred))"
      ],
      "execution_count": null,
      "outputs": [
        {
          "output_type": "stream",
          "name": "stdout",
          "text": [
            "1.0\n"
          ]
        }
      ]
    },
    {
      "cell_type": "markdown",
      "metadata": {
        "id": "JB14zQa7Tliy"
      },
      "source": [
        "Notamos que el modelo logra un 0.8666 de accuracy, por lo que acierta en un 86.6% de los casos. El precision de nuestro modelo alcanza 0.75, lo cual significa que un 75% de las flores que creyó que eran Iris Virginica realmente lo eran. En cambio, el recall llega a 1, quiere decir que, de las flores que pueden ser Iris Virginica, el modelo las identifica en su totalidad. \n",
        "\n",
        "Dados los resultados podemos decir que nuestro modelo es bueno, tiene un buen accuracy que nos muestra que acierta la mayoría de sus predicciones, los números del recall y del precision también nos indica que el modelo funciona generalmente bien y se puede utilizar para sacar conclusiones correctas a la hora de predecir que tipo de flor corresponde. En nuestro modelo especificamente, se privilegiaría minimizar los falsos negativos.\n",
        "\n",
        "Este modelo se puede mejorar agregando un mayor volumen de datos para que se entrene con mayor diversidad de variables y sea más preciso. También se puedrían agregar más variables a cada dato, actualmente se tienen solo 4 variables con los que el modelo debe predecir, si agregaramos un par de columnas más el modelo obtendrá más información y predecirá de mejor manera.\n",
        "\n",
        "Un ejemplo donde privilegiar el recall es mejor que privilegiar el precision es en la medicina, es preferible diagnosticar un caso que no es, que no diagnosticar una enfermedad y que el paciente realmente la tenga, en ese caso es mejor tener un mayor recall que precision, ya que así minimizaremos los falsos negativos. \n",
        "En cambio,en los tests de embarazo por ejemplo, es preferible dar negativo en caso de ser positivo que dar positivo sin que la mujer esté embarazada. En ese ejemplo sería más importante tener un mayor precision para minimizar los falsos positivos."
      ]
    }
  ]
}